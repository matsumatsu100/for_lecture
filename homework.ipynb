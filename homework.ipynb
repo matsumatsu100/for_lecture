{
  "nbformat": 4,
  "nbformat_minor": 0,
  "metadata": {
    "colab": {
      "provenance": []
    },
    "kernelspec": {
      "name": "python3",
      "display_name": "Python 3"
    }
  },
  "cells": [
    {
      "cell_type": "markdown",
      "metadata": {
        "id": "sESw_dKQL5mA"
      },
      "source": [
        "# 課題のソースコード"
      ]
    },
    {
      "cell_type": "markdown",
      "metadata": {
        "id": "oFmxTSs2MV2y"
      },
      "source": [
        "##必要なライブラリ・データセットのインポート"
      ]
    },
    {
      "cell_type": "code",
      "metadata": {
        "id": "v9v_nPKQMTZd"
      },
      "source": [
        "from sklearn.feature_extraction.text import TfidfVectorizer\n",
        "from sklearn.cluster import KMeans\n",
        "import numpy as np\n",
        "import matplotlib.pyplot as plt\n",
        "import pandas as pd\n",
        "import nltk\n",
        "import collections"
      ],
      "execution_count": 1,
      "outputs": []
    },
    {
      "cell_type": "code",
      "metadata": {
        "id": "MaRmXeotMjKv",
        "colab": {
          "base_uri": "https://localhost:8080/"
        },
        "outputId": "8c380774-1340-4f87-b614-9b5def80d1e1"
      },
      "source": [
        "nltk.download(\"stopwords\")\n",
        "nltk.download(\"wordnet\")\n",
        "nltk.download(\"punkt\")"
      ],
      "execution_count": 2,
      "outputs": [
        {
          "output_type": "stream",
          "name": "stderr",
          "text": [
            "[nltk_data] Downloading package stopwords to /root/nltk_data...\n",
            "[nltk_data]   Package stopwords is already up-to-date!\n",
            "[nltk_data] Downloading package wordnet to /root/nltk_data...\n",
            "[nltk_data]   Package wordnet is already up-to-date!\n",
            "[nltk_data] Downloading package punkt to /root/nltk_data...\n",
            "[nltk_data]   Package punkt is already up-to-date!\n"
          ]
        },
        {
          "output_type": "execute_result",
          "data": {
            "text/plain": [
              "True"
            ]
          },
          "metadata": {},
          "execution_count": 2
        }
      ]
    },
    {
      "cell_type": "markdown",
      "metadata": {
        "id": "7VtrTuH4MrHN"
      },
      "source": [
        "### データを取得"
      ]
    },
    {
      "cell_type": "code",
      "metadata": {
        "id": "zXcN4x3bMljo",
        "colab": {
          "base_uri": "https://localhost:8080/"
        },
        "outputId": "476d4fe0-5d0b-4217-97e2-120e1720807e"
      },
      "source": [
        "nltk.download('brown')"
      ],
      "execution_count": 3,
      "outputs": [
        {
          "output_type": "stream",
          "name": "stderr",
          "text": [
            "[nltk_data] Downloading package brown to /root/nltk_data...\n",
            "[nltk_data]   Package brown is already up-to-date!\n"
          ]
        },
        {
          "output_type": "execute_result",
          "data": {
            "text/plain": [
              "True"
            ]
          },
          "metadata": {},
          "execution_count": 3
        }
      ]
    },
    {
      "cell_type": "markdown",
      "metadata": {
        "id": "A6PFfk-BMxEs"
      },
      "source": [
        "### datasetの中身を確認。"
      ]
    },
    {
      "cell_type": "code",
      "source": [
        "from nltk.corpus import brown as corpus"
      ],
      "metadata": {
        "id": "VGqSRdJ1shNh"
      },
      "execution_count": 4,
      "outputs": []
    },
    {
      "cell_type": "code",
      "source": [
        "print('ファイル数:',len(corpus.fileids()))\n",
        "print('カテゴリ数:',len(corpus.categories()))\n",
        "print('単語数:', len(corpus.words()))\n",
        "print('文数:', len(corpus.sents()))"
      ],
      "metadata": {
        "id": "Zxj1AJGdhMtM",
        "colab": {
          "base_uri": "https://localhost:8080/"
        },
        "outputId": "dde37fb9-e862-4657-cdaa-96e81367baea"
      },
      "execution_count": 5,
      "outputs": [
        {
          "output_type": "stream",
          "name": "stdout",
          "text": [
            "ファイル数: 500\n",
            "カテゴリ数: 15\n",
            "単語数: 1161192\n",
            "文数: 57340\n"
          ]
        }
      ]
    },
    {
      "cell_type": "code",
      "metadata": {
        "id": "HXvSxPG0MuXr",
        "colab": {
          "base_uri": "https://localhost:8080/"
        },
        "outputId": "392321f9-b757-4d82-d170-24e93099214b"
      },
      "source": [
        "for n,item in enumerate(corpus.words(corpus.fileids()[0])[:300]):\n",
        "    print(item, end=\" \")\n",
        "    if (n%25) ==24:\n",
        "      print(\" \")"
      ],
      "execution_count": 6,
      "outputs": [
        {
          "output_type": "stream",
          "name": "stdout",
          "text": [
            "The Fulton County Grand Jury said Friday an investigation of Atlanta's recent primary election produced `` no evidence '' that any irregularities took place .  \n",
            "The jury further said in term-end presentments that the City Executive Committee , which had over-all charge of the election , `` deserves the praise  \n",
            "and thanks of the City of Atlanta '' for the manner in which the election was conducted . The September-October term jury had been charged  \n",
            "by Fulton Superior Court Judge Durwood Pye to investigate reports of possible `` irregularities '' in the hard-fought primary which was won by Mayor-nominate Ivan  \n",
            "Allen Jr. . `` Only a relative handful of such reports was received '' , the jury said , `` considering the widespread interest in  \n",
            "the election , the number of voters and the size of this city '' . The jury said it did find that many of Georgia's  \n",
            "registration and election laws `` are outmoded or inadequate and often ambiguous '' . It recommended that Fulton legislators act `` to have these laws  \n",
            "studied and revised to the end of modernizing and improving them '' . The grand jury commented on a number of other topics , among  \n",
            "them the Atlanta and Fulton County purchasing departments which it said `` are well operated and follow generally accepted practices which inure to the best  \n",
            "interest of both governments '' . Merger proposed However , the jury said it believes `` these two offices should be combined to achieve greater  \n",
            "efficiency and reduce the cost of administration '' . The City Purchasing Department , the jury said , `` is lacking in experienced clerical personnel  \n",
            "as a result of city personnel policies '' . It urged that the city `` take steps to remedy '' this problem . Implementation of  \n"
          ]
        }
      ]
    },
    {
      "cell_type": "markdown",
      "metadata": {
        "id": "OiXa4ySJNBDC"
      },
      "source": [
        "### 全documentで学習する"
      ]
    },
    {
      "cell_type": "code",
      "source": [
        "corpus.categories()"
      ],
      "metadata": {
        "colab": {
          "base_uri": "https://localhost:8080/"
        },
        "id": "zSCjbGovxvVq",
        "outputId": "5e2047c7-cbb5-4729-e03c-53e86323df8e"
      },
      "execution_count": 7,
      "outputs": [
        {
          "output_type": "execute_result",
          "data": {
            "text/plain": [
              "['adventure',\n",
              " 'belles_lettres',\n",
              " 'editorial',\n",
              " 'fiction',\n",
              " 'government',\n",
              " 'hobbies',\n",
              " 'humor',\n",
              " 'learned',\n",
              " 'lore',\n",
              " 'mystery',\n",
              " 'news',\n",
              " 'religion',\n",
              " 'reviews',\n",
              " 'romance',\n",
              " 'science_fiction']"
            ]
          },
          "metadata": {},
          "execution_count": 7
        }
      ]
    },
    {
      "cell_type": "code",
      "metadata": {
        "id": "uyNbkvs9NAav"
      },
      "source": [
        "docs=[corpus.words(fileid) for fileid in corpus.fileids()]\n",
        "labels=[corpus.categories(fileid) for fileid in corpus.fileids()]"
      ],
      "execution_count": 8,
      "outputs": []
    },
    {
      "cell_type": "markdown",
      "metadata": {
        "id": "U17VbjPaNIAD"
      },
      "source": [
        "## 前処理編"
      ]
    },
    {
      "cell_type": "markdown",
      "metadata": {
        "id": "HGPSmgSNNMFs"
      },
      "source": [
        "### nltkのストップワードリスト"
      ]
    },
    {
      "cell_type": "code",
      "metadata": {
        "id": "CHC1l7zDNFLx"
      },
      "source": [
        "en_stop = nltk.corpus.stopwords.words('english')\n",
        "en_stop= [\"``\",\"/\",\",.\",\".,\",\";\",\"--\",\":\",\")\",\"(\",'\"','&',\"'\",'),',',\"','-','.,','.,\"','.-',\"?\",\">\",\"<\",\"''\", \"\"] \\\n",
        "         +en_stop"
      ],
      "execution_count": 9,
      "outputs": []
    },
    {
      "cell_type": "markdown",
      "metadata": {
        "id": "7hdG75XqNYPa"
      },
      "source": [
        "### 前処理関数の作成"
      ]
    },
    {
      "cell_type": "code",
      "metadata": {
        "id": "f1jUH0P-NcoP"
      },
      "source": [
        "from nltk.corpus import wordnet as wn #lemmatize関数のためのimport\n",
        "import re\n",
        "\n",
        "def preprocess_word(word, stopwordset):\n",
        "\n",
        "    #1.make words lower ex: Python =>python\n",
        "    word=word.lower()\n",
        "    \n",
        "    #2.remove \",\" and \".\"\n",
        "    if word in [\",\",\".\"]:\n",
        "        return None\n",
        "    \n",
        "    #3.remove stopword  ex: the => (None) \n",
        "    if word in stopwordset:\n",
        "        return None\n",
        "    \n",
        "    #4.lemmatize  ex: cooked=>cook\n",
        "    lemma = wn.morphy(word)\n",
        "    if lemma is None:\n",
        "        return word\n",
        "\n",
        "    elif lemma in stopwordset: #lemmatizeしたものがstopwordである可能性がある\n",
        "        return None\n",
        "    else:\n",
        "        return lemma\n",
        "    \n",
        "\n",
        "def cleaning_text(text):\n",
        "    pattern1 = '@'\n",
        "    text = re.sub(pattern1, '', text)    \n",
        "    pattern2 = '<b>|</b>' \n",
        "    text = re.sub(pattern2, '', text)    \n",
        "    pattern3 = '\\(.*?\\)'\n",
        "    text = re.sub(pattern3, '', text)\n",
        "    pattern4 = '\\<.*?\\>'\n",
        "    text = re.sub(pattern4, '', text)\n",
        "    pattern5 = '[0-9]*'\n",
        "    text = re.sub(pattern5, '', text)\n",
        "    return text\n",
        "\n",
        "def preprocess_document(document):\n",
        "    document=[cleaning_text(text) for text in document] \n",
        "    document=[preprocess_word(w, en_stop) for w in document]\n",
        "    document=[w for w in document if w is not None]\n",
        "    return document\n",
        "\n",
        "def preprocess_documents(documents):\n",
        "    documents = [preprocess_document(document) for document in documents]\n",
        "    return documents "
      ],
      "execution_count": 10,
      "outputs": []
    },
    {
      "cell_type": "markdown",
      "metadata": {
        "id": "nJZeCVgNNi5T"
      },
      "source": [
        "### 前処理の結果を出力"
      ]
    },
    {
      "cell_type": "markdown",
      "metadata": {
        "id": "WGX6YzgVNmbV"
      },
      "source": [
        "### 前処理前"
      ]
    },
    {
      "cell_type": "code",
      "metadata": {
        "id": "2u2P8lmTNgLn",
        "colab": {
          "base_uri": "https://localhost:8080/"
        },
        "outputId": "b1ef7d76-dfa0-4c37-83bb-8b10214898af"
      },
      "source": [
        "print(docs[0][:25]) "
      ],
      "execution_count": 11,
      "outputs": [
        {
          "output_type": "stream",
          "name": "stdout",
          "text": [
            "['The', 'Fulton', 'County', 'Grand', 'Jury', 'said', 'Friday', 'an', 'investigation', 'of', \"Atlanta's\", 'recent', 'primary', 'election', 'produced', '``', 'no', 'evidence', \"''\", 'that', 'any', 'irregularities', 'took', 'place', '.']\n"
          ]
        }
      ]
    },
    {
      "cell_type": "markdown",
      "metadata": {
        "id": "Ki-UHTcXNptm"
      },
      "source": [
        "### 前処理後"
      ]
    },
    {
      "cell_type": "code",
      "metadata": {
        "id": "0rHr8yGINpDM",
        "colab": {
          "base_uri": "https://localhost:8080/"
        },
        "outputId": "704d0de5-a933-4e2a-af88-c4c998454720"
      },
      "source": [
        "print(preprocess_documents(docs)[0][:25])"
      ],
      "execution_count": 12,
      "outputs": [
        {
          "output_type": "stream",
          "name": "stdout",
          "text": [
            "['fulton', 'county', 'grand', 'jury', 'say', 'friday', 'investigation', \"atlanta's\", 'recent', 'primary', 'election', 'produce', 'evidence', 'irregularity', 'take', 'place', 'jury', 'say', 'term-end', 'presentment', 'city', 'executive', 'committee', 'over-all', 'charge']\n"
          ]
        }
      ]
    },
    {
      "cell_type": "markdown",
      "metadata": {
        "id": "kIwd7wGvNyWj"
      },
      "source": [
        "## クラスタリング編"
      ]
    },
    {
      "cell_type": "markdown",
      "metadata": {
        "id": "WPAMVMFaN2yL"
      },
      "source": [
        "### tf idfで上記の前処理済みの文章をベクトル化\n",
        "### vectorizerを使用する（ハイパーパラメーターの設定）"
      ]
    },
    {
      "cell_type": "code",
      "metadata": {
        "id": "QVtbDMmtNuQV",
        "colab": {
          "base_uri": "https://localhost:8080/"
        },
        "outputId": "75fd2b4a-ea0b-4282-9ef1-1931c03f3dec"
      },
      "source": [
        "pre_docs=preprocess_documents(docs)\n",
        "pre_docs=[\" \".join(doc) for doc in pre_docs]\n",
        "print(pre_docs[0])\n",
        "\n",
        "vectorizer = TfidfVectorizer(max_features=200, token_pattern=u'(?u)\\\\b\\\\w+\\\\b' )"
      ],
      "execution_count": 13,
      "outputs": [
        {
          "output_type": "stream",
          "name": "stdout",
          "text": [
            "fulton county grand jury say friday investigation atlanta's recent primary election produce evidence irregularity take place jury say term-end presentment city executive committee over-all charge election deserve praise thanks city atlanta manner election conduct september-october term jury charge fulton superior court judge durwood pye investigate report possible irregularity hard-fought primary mayor-nominate ivan allen jr. relative handful report receive jury say consider widespread interest election number voter size city jury say find many georgia's registration election laws outmode inadequate often ambiguous recommend fulton legislator act laws study revise end modernize improve grand jury comment number topic among atlanta fulton county purchasing department say well operate follow generally accept practice inure best interest government merger propose however jury say belief two office combine achieve greater efficiency reduce cost administration city purchasing department jury say lack experience clerical personnel result city personnel policy urge city take steps remedy problem implementation georgia's automobile title law also recommend outgo jury urge next legislature provide enable funds re-set effective date orderly implementation law may effect grand jury take swipe state welfare department's handling federal funds grant child welfare services foster home one major item fulton county general assistance program jury say state welfare department see fit distribute funds welfare department county state exception fulton county receive none money juror say realize proportionate distribution funds might disable program le populous county nevertheless feel future fulton county receive portion available funds juror say failure continue place disproportionate burden fulton taxpayer jury also comment fulton ordinary's court fire practice appointment appraiser guardian administrator awarding fee compensation ward protect jury say found court incorporate operate procedure recommendation two previous grand jury atlanta bar association interim citizen committee action serve protect fact effect court's ward undue costs appoint elect servant unmeritorious criticism jury say regard atlanta's new multi-million-dollar airport jury recommend new management take charge jan. airport operate manner eliminate political influence jury elaborate add periodic surveillance pricing practice concessionaire purpose keeping price reasonable ask jail deputy matter jury recommend four additional deputy employ fulton county jail doctor medical intern extern employ night weekend duty jail fulton legislator work city official pass enable legislation permit establishment fair equitable pension plan city employ jury praise administration operation atlanta police department fulton tax commissioner's office bellwood alpharetta prison farm grady hospital fulton health department mayor william b. hartsfield file suit divorce wife pearl williams hartsfield fulton superior court friday petition charge mental cruelty couple married aug. son william berry jr. daughter mrs. j. m. cheshire griffin attorney mayor say amicable property settlement agree upon petition list mayor's occupation attorney age list wife's age place birth opelika ala. petition say couple live together man wife year hartsfield home e. pelham rd. aj henry l. bowden list petition mayor's attorney hartsfield mayor atlanta exception one brief interlude since political career go back election city council mayor's present term office expire jan. succeed ivan allen jr. become candidate sept. primary mayor hartsfield announce would run reelection georgia republican getting strong encouragement enter candidate governor's race top official say wednesday robert snodgrass state gop chairman say meeting hold tuesday night blue ridge bring enthusiastic response audience state party chairman james w. dorsey add enthusiasm picking state rally hold sept. savannah newly elect texas sen. john tower feature speaker blue ridge meeting audience warn entering candidate governor would force take petition voting precinct obtain signature register voter despite warning unanimous vote enter candidate accord republican attend crowd ask whether want wait one term make race vote dissent large hurdle republican would face state law say making first race one two alternative course must take five per cent voter county must sign petition request republican allow place names candidate general election ballot republican must hold primary county unit system system party oppose platform sam caldwell state highway department public relations director resign tuesday work lt. gov. garland byrd's campaign caldwell's resignation expect time succeed rob ledford gainesville assistant three years gubernatorial campaign start caldwell expect become campaign coordinator byrd georgia legislature wind session monday head home highway bond money approve follow shortly adjournment monday afternoon senate expect approve study number legislator allot rural urban area determine adjustment make gov. vandiver expect make traditional visit chambers work toward adjournment vandiver likely mention $ million highway bond issue approve earlier session first priority item construction bond meanwhile learn state highway department near ready issue first $ million worth highway reconstruction bond bond issue go state court friendly test suit test validity act sales begin contract let repair work georgia's heavily travel highway highway department source say also plan issue $ million $ million worth rural roads authority bond rural road construction work revolve fund department apparently intend make rural roads authority revolve fund new bond would issue every time portion old one pay tax authorities vandiver open race governor battle legislature issuance $ million worth additional rural roads bond propose gov. marvin griffin highway department source tell constitution however vandiver consult yet plan issue new rural roads bond schley county rep. b. d. pelham offer resolution monday house rescind body's action friday voting $ per day increase expense allowance pelham say sunday night research whether quickie vote increase repeal outright whether notice would first given reconsideration action would seek emphasizing technical details fully work pelham say resolution would seek set aside privilege resolution house vote similar resolution pass senate vote sunday night word resolution offer rescind action pelham point georgia voter last november reject constitutional amendment allow legislator vote pay raise future legislature sessions veteran jackson county legislator ask georgia house monday back federal aid education something consistently oppose past rep. mac barber commerce asking house privilege resolution endorse increase federal support public education provide funds receive expend state funds barber th year legislator say member congressional delegation washington would like see resolution pass add none georgia's congressman specifically ask offer resolution resolution barber toss house hopper friday formally read monday say event congress provide increase federal funds state board education direct give priority teacher pay raise colquitt long hot controversy miller county new school superintendent elect policeman put cool election ever saw county new school superintendent harry davis veteran agriculture teacher defeated felix bush school principal chairman miller county democratic executive committee davis receive vote saturday's election bush get ordinary carey williams arm pistol stand polls insure order cool calm election ever saw colquitt policeman tom williams say polls like church smell drop liquor bit trouble campaign leading election quiet however mark controversy anonymous midnight phone call veil threat violence former county school superintendent george p. callan shot death march four days resign post dispute county school board election campaign candidate davis bush reportedly receive anonymous telephone call ordinary williams say subject anonymous call soon schedule election many local citizen fear would irregularity polls williams get permit carry gun promise orderly election sheriff felix tabb say ordinary apparently make good promise everything go real smooth sheriff say bit trouble\n"
          ]
        }
      ]
    },
    {
      "cell_type": "markdown",
      "metadata": {
        "id": "bOOrgZHZN_Aw"
      },
      "source": [
        "### fitする"
      ]
    },
    {
      "cell_type": "code",
      "metadata": {
        "id": "98b3XjG7N8nZ"
      },
      "source": [
        "tf_idf = vectorizer.fit_transform(pre_docs)"
      ],
      "execution_count": 14,
      "outputs": []
    },
    {
      "cell_type": "markdown",
      "metadata": {
        "id": "yKhgoWLeOCW_"
      },
      "source": [
        "### K-means"
      ]
    },
    {
      "cell_type": "code",
      "metadata": {
        "id": "HBFqXETzOXec"
      },
      "source": [
        "def show_labels(pre_docs, clusters, labels):\n",
        "  i = 0\n",
        "  pre_label = \"\"\n",
        "  for doc, cls, label in zip(pre_docs, clusters, labels):\n",
        "      if label != pre_label:\n",
        "        print(label, cls, doc[0:100])\n",
        "        i += 1\n",
        "        if i % 5 == 0:\n",
        "          pre_label = label\n",
        "\n",
        "def show(clusters):\n",
        "  num_cluster = len(set(clusters))\n",
        "  print(num_cluster)\n",
        "  plt.hist(clusters, bins = num_cluster)\n",
        "  plt.xlabel(\"label\")\n",
        "  plt.ylabel(\"count\")\n",
        "  plt.title(\"Histogram of k-means\")\n",
        "  plt.show()"
      ],
      "execution_count": 15,
      "outputs": []
    },
    {
      "cell_type": "code",
      "source": [
        "km_15 = KMeans(n_clusters=15, random_state = 0)\n",
        "clusters_15 = km_15.fit_predict(tf_idf)\n",
        "show(clusters_15)"
      ],
      "metadata": {
        "colab": {
          "base_uri": "https://localhost:8080/",
          "height": 546
        },
        "id": "wYetLlQjFAJp",
        "outputId": "ab4131cc-46f7-4f4f-ca69-5cee7f35994f"
      },
      "execution_count": 16,
      "outputs": [
        {
          "output_type": "stream",
          "name": "stderr",
          "text": [
            "/usr/local/lib/python3.10/dist-packages/sklearn/cluster/_kmeans.py:870: FutureWarning: The default value of `n_init` will change from 10 to 'auto' in 1.4. Set the value of `n_init` explicitly to suppress the warning\n",
            "  warnings.warn(\n"
          ]
        },
        {
          "output_type": "stream",
          "name": "stdout",
          "text": [
            "15\n"
          ]
        },
        {
          "output_type": "display_data",
          "data": {
            "text/plain": [
              "<Figure size 640x480 with 1 Axes>"
            ],
            "image/png": "[encoded data removed]"
          },
          "metadata": {}
        }
      ]
    },
    {
      "cell_type": "code",
      "source": [
        "km_5 = KMeans(n_clusters=5, random_state = 0)\n",
        "clusters_5 = km_5.fit_predict(tf_idf)\n",
        "show(clusters_5)"
      ],
      "metadata": {
        "colab": {
          "base_uri": "https://localhost:8080/",
          "height": 490
        },
        "id": "GaaWqz6HFXiq",
        "outputId": "ca83dd45-503e-4284-f998-3755ce4d909d"
      },
      "execution_count": 17,
      "outputs": [
        {
          "output_type": "stream",
          "name": "stdout",
          "text": [
            "5\n"
          ]
        },
        {
          "output_type": "display_data",
          "data": {
            "text/plain": [
              "<Figure size 640x480 with 1 Axes>"
            ],
            "image/png": "[encoded data removed]"
          },
          "metadata": {}
        }
      ]
    },
    {
      "cell_type": "code",
      "source": [
        "show_labels(pre_docs, clusters_15, labels)"
      ],
      "metadata": {
        "colab": {
          "base_uri": "https://localhost:8080/"
        },
        "id": "2c7wSmf-eXK8",
        "outputId": "e0432eec-07fd-4d7d-dc4a-acf60ab28481"
      },
      "execution_count": 18,
      "outputs": [
        {
          "output_type": "stream",
          "name": "stdout",
          "text": [
            "['news'] 1 fulton county grand jury say friday investigation atlanta's recent primary election produce evidence\n",
            "['news'] 13 austin texas committee approval gov. price daniel's abandon property act seem certain thursday despi\n",
            "['news'] 8 several defendant summerdale police burglary trial make statement indicate guilt time arrest judge j\n",
            "['news'] 10 oslo positive element emerge oslo meeting north atlantic treaty organization foreign minister free f\n",
            "['news'] 11 east providence organize civil defense setup begin appoint full-time director raymond h. hawksley pr\n",
            "['editorial'] 10 assembly session bring much good general assembly adjourn today perform atmosphere crisis struggle d\n",
            "['editorial'] 11 must berlin remain divide inference widely accept communist succeed building barricade across berlin\n",
            "['editorial'] 11 good man depart goodby mr. sam sam rayburn good man good american third good democrat roll one sturd\n",
            "['editorial'] 7 shock wave africa word dag hammarskjold's death african plane crash sent shockwave around globe head\n",
            "['editorial'] 11 help need dominican republic achieve free democratic government due large part u.s. show force enabl\n",
            "['reviews'] 1 news nathan milstein wizard violin certainly orchestra hall play countless recital thursday night ce\n",
            "['reviews'] 1 television yet work living arrangement jazz come medium uneasy guest relax member family seem unfort\n",
            "['reviews'] 7 francois d'albert hungarian-born violinist make new york debut three years ago play return engagemen\n",
            "['reviews'] 1 theatre-by-the-sea matunuck present king hearts jean kerr eleanor brooke direct michael murray setti\n",
            "['reviews'] 1 superb intellectual spiritual vitality william james never evident letters man enormous gift living \n",
            "['religion'] 9 result although still make use distinction much confusion meaning basic terms employ mean spirit mat\n",
            "['religion'] 6 content faith present today form understand people must forget one goal perennial theological task c\n",
            "['religion'] 6 one hundred years ago exist england association promotion unity christendom represent effort unautho\n",
            "['religion'] 6 death man unique yet universal straight line would symbolize uniqueness circle universality one figu\n",
            "['religion'] 9 furthermore encouragement revisionist thinking manifestly fair admit fraternity constitutional right\n",
            "['hobbies'] 11 often beginning bodybuilder training secretly either parent want sonny-boy lift old barbell things s\n",
            "['hobbies'] 1 beautiful bed pansy i've see south dakota yard sizzle day pansy suppose like cool great velvety flow\n",
            "['hobbies'] 7 five four three two one fire ! ! tremendous energy release giant rocket engine perhaps felt much bet\n",
            "['hobbies'] 1 lyric beauty schubert's trout quintet elemental rhythm infectious melody make source pure pleasure a\n",
            "['hobbies'] 4 westminster kc dog show madison square garden new york second day final junior class bring competiti\n",
            "['lore'] 1 american romance almost nothing rates higher movie men call meeting cute boy-meets-girl seem adorabl\n",
            "['lore'] 0 another freighter state seem commonplace name john harvey one atlantic sea-horses sail bari bring be\n",
            "['lore'] 9 pause merriment friend gaze wonder stare open-mouthed amazement explain strange feeling live event c\n",
            "['lore'] 13 food wonderful lot fun ! ! write ten year old student letter parent north country school lake placid\n",
            "['lore'] 1 buffet swirl wind little green biplane struggle northward mountain beyond northfield gulf wire whine\n",
            "['belles_lettres'] 7 northern liberal chief supporter civil right integration also led nation direction welfare state obj\n",
            "['belles_lettres'] 10 past duty state sir henry maine note long ago two number internal order external security prevail cl\n",
            "['belles_lettres'] 7 thermonuclear war set accident steps take guard one sort mishap could trigger destruction continent \n",
            "['belles_lettres'] 0 suddenly however posture change game end go rigid black statuary six figure lean tall angular go sti\n",
            "['belles_lettres'] 9 fortunate time build seventeenth century great period persian art architect tile carpet maker potter\n",
            "['government'] 8 office business economics obe u.s. department commerce provide basic measure national economy curren\n",
            "['government'] 2 le develop country however programing best inadequate worst nonexistent advance one india pakistan d\n",
            "['government'] 11 hear tell young people almost years service congress see kaiser hitler mussolini tojo stalin khrushc\n",
            "['government'] 10 origin state automobile practice practice state-owned vehicle use employee business date back forty \n",
            "['government'] 10 rhode island property tax time years ago local taxation city town sufficient support operations part\n",
            "['learned'] 14 introduction recently become practical use radio emission moon planet new source information body at\n",
            "['learned'] 3 abstract experiment make electric arc apply porous graphite anode cool transpire gas argon thus ener\n",
            "['learned'] 3 band viscometer show figure consist two block flat surface hold apart shim small well top fluid past\n",
            "['learned'] 3 proton magnetic resonance study polycrystalline af function magnetic field temperature present af pa\n",
            "['learned'] 14 polyphosphate give renew life soap product time surfactant threat though expensive polyphosphate spe\n",
            "['fiction'] 5 thirty-three scotty go back school parent talk seriously lengthily doctor specialist university hosp\n",
            "['fiction'] 0 sharp edge seem restless sea wave thrusting upward angry motion papa-san sat glacier-like smooth sol\n",
            "['fiction'] 5 mickie sat second whisky-on-the-rocks little bar next funeral parlor pennsylvania avenue al's little\n",
            "['fiction'] 6 bishop look coldly say take leave ! ! literally nothing else catch machine sojourner easily excite u\n",
            "['fiction'] 5 payne dismount madison place hand rein herold fog increase darkness night two gas lamp mislead glow \n",
            "['mystery'] 12 thirty-eight patient bus morning left hanover disturb hallucinate interne nurse two attendant charge\n",
            "['mystery'] 12 giving park car once-over oldsmobile license number jyj stall number five okay say attendant i'll le\n",
            "['mystery'] 12 fat man say gotta go around corner gun move thin man say that-a-way second building right say police\n",
            "['mystery'] 0 jowl spike barb gray beard small mean eyes regard marty steadily unblinkingly eyes thread little fil\n",
            "['mystery'] 12 turn telephone rourke go bedroom change slipper dry sock shoes rourke talking phone come back hour e\n",
            "['science_fiction'] 5 know self free grok ever closer brother merge without let self's integrity ever mike stop cherish br\n",
            "['science_fiction'] 0 expense time involve astronomical however sent third vessel much smaller fast one first two learn mu\n",
            "['science_fiction'] 0 angel matter running logical deductive chain deciding action already establish premise doubt angel c\n",
            "['science_fiction'] 5 ryan heft bulk support one elbow rub eyes sleepily one huge paw ekstrohm nogol guy okay nothing wron\n",
            "['science_fiction'] 0 live given name helva first three vegetable month wave crab claw kick weakly club foot enjoy usual r\n",
            "['adventure'] 12 dan morgan tell would forget ann turner well rid certainly want wife fickle ann married he'd asking \n",
            "['adventure'] 0 gavin pause wearily can't stay late say they'd dawn can't make go gavin sink chair begin rock thinki\n",
            "['adventure'] 12 sentry dead fact showing sign revive carry enfield rifle holstered navy cap-and-ball pistol bayonet \n",
            "['adventure'] 0 earthquake make return village ! ! dammit want go explanation come jason keep reverend jason looking\n",
            "['adventure'] 12 carry quirt start raise let fall dangle wrist saw fire say speaking slowly making effort control ang\n",
            "['romance'] 0 neither like dislike old man could break bell church tower ring mass noon six evening tone repetitiv\n",
            "['romance'] 5 people come evening see baby hold room fill smoke maggie's head throb excitement fatigue stuart happ\n",
            "['romance'] 12 thrifty use unusual case like joke ! ! read married tenant ! ! read yes ought simplify tolley's life\n",
            "['romance'] 5 must forgive henrietta murmur room absolution doaty's last testament proof enough doaty would never \n",
            "['romance'] 0 momoyama family come miyagi prefecture northeast main japanese island honshu still trace mysterious \n",
            "['humor'] 1 among hinkle identify photograph barco ! ! seem barco fancy ladies' man seven marriage list mormon b\n",
            "['humor'] 5 realize hamlet face entirely different problem agony could greater accomplish add mrs. beige's tray \n",
            "['humor'] 1 needle say furious unparalleled intrusion upon free enterprise dare demand snoop private financial r\n",
            "['humor'] 11 date however garden still le mess even start workshop meadow pond neighborhood found fault things di\n",
            "['humor'] 5 ambiguity nothing english ridicule much ambiguous use words unless ambiguous use sentence ben frankl\n"
          ]
        }
      ]
    },
    {
      "cell_type": "code",
      "source": [
        "show_labels(pre_docs, clusters_5, labels)"
      ],
      "metadata": {
        "colab": {
          "base_uri": "https://localhost:8080/"
        },
        "id": "YhPUIpveeZBf",
        "outputId": "4ddbfeff-fbe9-4820-e892-7dec02125aac"
      },
      "execution_count": 19,
      "outputs": [
        {
          "output_type": "stream",
          "name": "stdout",
          "text": [
            "['news'] 1 fulton county grand jury say friday investigation atlanta's recent primary election produce evidence\n",
            "['news'] 1 austin texas committee approval gov. price daniel's abandon property act seem certain thursday despi\n",
            "['news'] 1 several defendant summerdale police burglary trial make statement indicate guilt time arrest judge j\n",
            "['news'] 1 oslo positive element emerge oslo meeting north atlantic treaty organization foreign minister free f\n",
            "['news'] 1 east providence organize civil defense setup begin appoint full-time director raymond h. hawksley pr\n",
            "['editorial'] 3 assembly session bring much good general assembly adjourn today perform atmosphere crisis struggle d\n",
            "['editorial'] 1 must berlin remain divide inference widely accept communist succeed building barricade across berlin\n",
            "['editorial'] 1 good man depart goodby mr. sam sam rayburn good man good american third good democrat roll one sturd\n",
            "['editorial'] 1 shock wave africa word dag hammarskjold's death african plane crash sent shockwave around globe head\n",
            "['editorial'] 1 help need dominican republic achieve free democratic government due large part u.s. show force enabl\n",
            "['reviews'] 2 news nathan milstein wizard violin certainly orchestra hall play countless recital thursday night ce\n",
            "['reviews'] 2 television yet work living arrangement jazz come medium uneasy guest relax member family seem unfort\n",
            "['reviews'] 1 francois d'albert hungarian-born violinist make new york debut three years ago play return engagemen\n",
            "['reviews'] 2 theatre-by-the-sea matunuck present king hearts jean kerr eleanor brooke direct michael murray setti\n",
            "['reviews'] 2 superb intellectual spiritual vitality william james never evident letters man enormous gift living \n",
            "['religion'] 2 result although still make use distinction much confusion meaning basic terms employ mean spirit mat\n",
            "['religion'] 2 content faith present today form understand people must forget one goal perennial theological task c\n",
            "['religion'] 3 one hundred years ago exist england association promotion unity christendom represent effort unautho\n",
            "['religion'] 2 death man unique yet universal straight line would symbolize uniqueness circle universality one figu\n",
            "['religion'] 2 furthermore encouragement revisionist thinking manifestly fair admit fraternity constitutional right\n",
            "['hobbies'] 1 often beginning bodybuilder training secretly either parent want sonny-boy lift old barbell things s\n",
            "['hobbies'] 2 beautiful bed pansy i've see south dakota yard sizzle day pansy suppose like cool great velvety flow\n",
            "['hobbies'] 2 five four three two one fire ! ! tremendous energy release giant rocket engine perhaps felt much bet\n",
            "['hobbies'] 2 lyric beauty schubert's trout quintet elemental rhythm infectious melody make source pure pleasure a\n",
            "['hobbies'] 1 westminster kc dog show madison square garden new york second day final junior class bring competiti\n",
            "['lore'] 2 american romance almost nothing rates higher movie men call meeting cute boy-meets-girl seem adorabl\n",
            "['lore'] 2 another freighter state seem commonplace name john harvey one atlantic sea-horses sail bari bring be\n",
            "['lore'] 2 pause merriment friend gaze wonder stare open-mouthed amazement explain strange feeling live event c\n",
            "['lore'] 1 food wonderful lot fun ! ! write ten year old student letter parent north country school lake placid\n",
            "['lore'] 2 buffet swirl wind little green biplane struggle northward mountain beyond northfield gulf wire whine\n",
            "['belles_lettres'] 3 northern liberal chief supporter civil right integration also led nation direction welfare state obj\n",
            "['belles_lettres'] 3 past duty state sir henry maine note long ago two number internal order external security prevail cl\n",
            "['belles_lettres'] 2 thermonuclear war set accident steps take guard one sort mishap could trigger destruction continent \n",
            "['belles_lettres'] 4 suddenly however posture change game end go rigid black statuary six figure lean tall angular go sti\n",
            "['belles_lettres'] 2 fortunate time build seventeenth century great period persian art architect tile carpet maker potter\n",
            "['government'] 3 office business economics obe u.s. department commerce provide basic measure national economy curren\n",
            "['government'] 3 le develop country however programing best inadequate worst nonexistent advance one india pakistan d\n",
            "['government'] 1 hear tell young people almost years service congress see kaiser hitler mussolini tojo stalin khrushc\n",
            "['government'] 3 origin state automobile practice practice state-owned vehicle use employee business date back forty \n",
            "['government'] 3 rhode island property tax time years ago local taxation city town sufficient support operations part\n",
            "['learned'] 3 introduction recently become practical use radio emission moon planet new source information body at\n",
            "['learned'] 0 abstract experiment make electric arc apply porous graphite anode cool transpire gas argon thus ener\n",
            "['learned'] 0 band viscometer show figure consist two block flat surface hold apart shim small well top fluid past\n",
            "['learned'] 0 proton magnetic resonance study polycrystalline af function magnetic field temperature present af pa\n",
            "['learned'] 3 polyphosphate give renew life soap product time surfactant threat though expensive polyphosphate spe\n",
            "['fiction'] 4 thirty-three scotty go back school parent talk seriously lengthily doctor specialist university hosp\n",
            "['fiction'] 4 sharp edge seem restless sea wave thrusting upward angry motion papa-san sat glacier-like smooth sol\n",
            "['fiction'] 4 mickie sat second whisky-on-the-rocks little bar next funeral parlor pennsylvania avenue al's little\n",
            "['fiction'] 2 bishop look coldly say take leave ! ! literally nothing else catch machine sojourner easily excite u\n",
            "['fiction'] 4 payne dismount madison place hand rein herold fog increase darkness night two gas lamp mislead glow \n",
            "['mystery'] 4 thirty-eight patient bus morning left hanover disturb hallucinate interne nurse two attendant charge\n",
            "['mystery'] 4 giving park car once-over oldsmobile license number jyj stall number five okay say attendant i'll le\n",
            "['mystery'] 4 fat man say gotta go around corner gun move thin man say that-a-way second building right say police\n",
            "['mystery'] 4 jowl spike barb gray beard small mean eyes regard marty steadily unblinkingly eyes thread little fil\n",
            "['mystery'] 4 turn telephone rourke go bedroom change slipper dry sock shoes rourke talking phone come back hour e\n",
            "['science_fiction'] 4 know self free grok ever closer brother merge without let self's integrity ever mike stop cherish br\n",
            "['science_fiction'] 4 expense time involve astronomical however sent third vessel much smaller fast one first two learn mu\n",
            "['science_fiction'] 2 angel matter running logical deductive chain deciding action already establish premise doubt angel c\n",
            "['science_fiction'] 4 ryan heft bulk support one elbow rub eyes sleepily one huge paw ekstrohm nogol guy okay nothing wron\n",
            "['science_fiction'] 2 live given name helva first three vegetable month wave crab claw kick weakly club foot enjoy usual r\n",
            "['adventure'] 4 dan morgan tell would forget ann turner well rid certainly want wife fickle ann married he'd asking \n",
            "['adventure'] 4 gavin pause wearily can't stay late say they'd dawn can't make go gavin sink chair begin rock thinki\n",
            "['adventure'] 4 sentry dead fact showing sign revive carry enfield rifle holstered navy cap-and-ball pistol bayonet \n",
            "['adventure'] 4 earthquake make return village ! ! dammit want go explanation come jason keep reverend jason looking\n",
            "['adventure'] 4 carry quirt start raise let fall dangle wrist saw fire say speaking slowly making effort control ang\n",
            "['romance'] 4 neither like dislike old man could break bell church tower ring mass noon six evening tone repetitiv\n",
            "['romance'] 4 people come evening see baby hold room fill smoke maggie's head throb excitement fatigue stuart happ\n",
            "['romance'] 4 thrifty use unusual case like joke ! ! read married tenant ! ! read yes ought simplify tolley's life\n",
            "['romance'] 4 must forgive henrietta murmur room absolution doaty's last testament proof enough doaty would never \n",
            "['romance'] 4 momoyama family come miyagi prefecture northeast main japanese island honshu still trace mysterious \n",
            "['humor'] 2 among hinkle identify photograph barco ! ! seem barco fancy ladies' man seven marriage list mormon b\n",
            "['humor'] 4 realize hamlet face entirely different problem agony could greater accomplish add mrs. beige's tray \n",
            "['humor'] 2 needle say furious unparalleled intrusion upon free enterprise dare demand snoop private financial r\n",
            "['humor'] 1 date however garden still le mess even start workshop meadow pond neighborhood found fault things di\n",
            "['humor'] 4 ambiguity nothing english ridicule much ambiguous use words unless ambiguous use sentence ben frankl\n"
          ]
        }
      ]
    },
    {
      "cell_type": "code",
      "source": [
        "def cosine_similarity(list_a, list_b):\n",
        "  inner_prod = np.array(list_a).dot(np.array(list_b))\n",
        "  norm_a = np.linalg.norm(list_a)\n",
        "  norm_b = np.linalg.norm(list_b)\n",
        "  try:\n",
        "      return inner_prod / (norm_a*norm_b)\n",
        "  except ZeroDivisionError:\n",
        "      return 1.0\n",
        "\n",
        "def calc_cosine(vector, vector_list):\n",
        "  result = {}\n",
        "  for i, x in enumerate(vector_list):\n",
        "    result[i] = cosine_similarity(vector, vector_list[i])\n",
        "    \n",
        "  return result\n",
        "\n",
        "print(\"tfidf\")\n",
        "tfidf_vector = tf_idf.toarray()\n",
        "res = calc_cosine(tfidf_vector[0],tfidf_vector)\n",
        "sorted(res.items(), key=lambda x:x[1],reverse=True)"
      ],
      "metadata": {
        "colab": {
          "base_uri": "https://localhost:8080/"
        },
        "id": "koQpxV-rjKew",
        "outputId": "9847ce18-ab1f-4a90-fb09-7db956e52baf"
      },
      "execution_count": 20,
      "outputs": [
        {
          "output_type": "stream",
          "name": "stdout",
          "text": [
            "tfidf\n"
          ]
        },
        {
          "output_type": "execute_result",
          "data": {
            "text/plain": [
              "[(0, 1.0000000000000002),\n",
              " (8, 0.691301646490901),\n",
              " (5, 0.6786851591726192),\n",
              " (1, 0.6715100764750268),\n",
              " (18, 0.6445744537987301),\n",
              " (19, 0.6166988689139633),\n",
              " (21, 0.6128946461727383),\n",
              " (4, 0.5990470152581756),\n",
              " (496, 0.5903110344749325),\n",
              " (26, 0.5838316965557697),\n",
              " (233, 0.5783714797067773),\n",
              " (20, 0.5777698793399675),\n",
              " (205, 0.5701363849164015),\n",
              " (186, 0.5693300654136859),\n",
              " (222, 0.5691602610232509),\n",
              " (495, 0.5689529409129611),\n",
              " (9, 0.5643156446369565),\n",
              " (465, 0.5631120930990797),\n",
              " (50, 0.5595285813610206),\n",
              " (23, 0.5589853283096908),\n",
              " (24, 0.5551823683459349),\n",
              " (82, 0.5550814750659038),\n",
              " (392, 0.55268276330017),\n",
              " (374, 0.5491198248360889),\n",
              " (220, 0.548691005121552),\n",
              " (228, 0.5476632875655633),\n",
              " (39, 0.5460558904318772),\n",
              " (255, 0.545851703743664),\n",
              " (476, 0.5446916864694261),\n",
              " (456, 0.540536593927341),\n",
              " (36, 0.5391244435629671),\n",
              " (57, 0.5381598596779092),\n",
              " (468, 0.536739571740742),\n",
              " (164, 0.5306502225432131),\n",
              " (226, 0.5293167423070595),\n",
              " (428, 0.528955618330536),\n",
              " (463, 0.5230219493125599),\n",
              " (491, 0.521372272455155),\n",
              " (7, 0.5208348614735726),\n",
              " (22, 0.5207067858602834),\n",
              " (45, 0.5168808043082981),\n",
              " (87, 0.5162196001374592),\n",
              " (2, 0.5158838104288762),\n",
              " (6, 0.515815765425361),\n",
              " (399, 0.5145719286910767),\n",
              " (442, 0.5142145358217077),\n",
              " (47, 0.5114754064733926),\n",
              " (473, 0.510746267155009),\n",
              " (477, 0.5102613807795192),\n",
              " (194, 0.5091654508762069),\n",
              " (44, 0.5066864999179175),\n",
              " (353, 0.49896930023008457),\n",
              " (168, 0.4971041915061894),\n",
              " (86, 0.49600384727482455),\n",
              " (145, 0.4950256100924875),\n",
              " (388, 0.49309292352353234),\n",
              " (356, 0.492801705188973),\n",
              " (14, 0.4901984109376783),\n",
              " (58, 0.4895592887200847),\n",
              " (171, 0.48620257153344565),\n",
              " (268, 0.4857803158826426),\n",
              " (13, 0.48572524589652993),\n",
              " (276, 0.48482293921742614),\n",
              " (437, 0.483932249888612),\n",
              " (417, 0.4811669622495152),\n",
              " (351, 0.48052418462298185),\n",
              " (485, 0.47918266512787633),\n",
              " (60, 0.47622133958341667),\n",
              " (499, 0.47599848646877013),\n",
              " (486, 0.4759139222819791),\n",
              " (242, 0.475710985228166),\n",
              " (416, 0.4735527547316547),\n",
              " (459, 0.47314488432234547),\n",
              " (385, 0.47215302957216093),\n",
              " (269, 0.4708116015192556),\n",
              " (55, 0.47048908902235675),\n",
              " (422, 0.4704440908819066),\n",
              " (63, 0.46696380715087343),\n",
              " (411, 0.46693902702610385),\n",
              " (83, 0.4666773503268747),\n",
              " (148, 0.46651761312457773),\n",
              " (444, 0.46452498266679576),\n",
              " (10, 0.46405708117799904),\n",
              " (493, 0.4636301403334963),\n",
              " (160, 0.4626574808855511),\n",
              " (49, 0.4620639746059524),\n",
              " (65, 0.4601912615835292),\n",
              " (11, 0.4588738761369573),\n",
              " (458, 0.45883663741951014),\n",
              " (471, 0.4574488721763385),\n",
              " (433, 0.4570890511367173),\n",
              " (393, 0.4562150651617191),\n",
              " (254, 0.4551662825207913),\n",
              " (59, 0.45482071525840007),\n",
              " (75, 0.4536238383060867),\n",
              " (381, 0.4533532594837617),\n",
              " (151, 0.45325652572054725),\n",
              " (70, 0.45316329980446834),\n",
              " (419, 0.4531202275723777),\n",
              " (479, 0.45260286089914625),\n",
              " (172, 0.45228101320218683),\n",
              " (339, 0.4519836846856034),\n",
              " (108, 0.4509306073345495),\n",
              " (69, 0.45028904317243407),\n",
              " (461, 0.44811332005599014),\n",
              " (170, 0.4479975410357683),\n",
              " (413, 0.4479603699684068),\n",
              " (497, 0.4470393135381694),\n",
              " (116, 0.44620130163612287),\n",
              " (48, 0.44587286254662545),\n",
              " (247, 0.4453248462358594),\n",
              " (237, 0.44525575170392556),\n",
              " (435, 0.44503235242151346),\n",
              " (12, 0.444155486987317),\n",
              " (488, 0.44374144091905315),\n",
              " (244, 0.44367693616568565),\n",
              " (418, 0.4424997613838662),\n",
              " (62, 0.44196160113685545),\n",
              " (3, 0.4418166729250247),\n",
              " (345, 0.44168414429436487),\n",
              " (27, 0.4410788042064707),\n",
              " (209, 0.43807742598592936),\n",
              " (215, 0.43788358835564745),\n",
              " (498, 0.4369946861121847),\n",
              " (424, 0.4369094145272925),\n",
              " (439, 0.4365956306212897),\n",
              " (227, 0.43552904891170907),\n",
              " (28, 0.43517640022498794),\n",
              " (141, 0.4345792681225282),\n",
              " (447, 0.43411265055587894),\n",
              " (149, 0.43225218406240207),\n",
              " (380, 0.43209877079706693),\n",
              " (257, 0.429811912263333),\n",
              " (115, 0.4296932919288842),\n",
              " (490, 0.42890771963934643),\n",
              " (74, 0.4287559242434873),\n",
              " (405, 0.4287115474540092),\n",
              " (431, 0.4276706747432631),\n",
              " (54, 0.4269803647935261),\n",
              " (403, 0.4250940980520275),\n",
              " (402, 0.4245011438717098),\n",
              " (218, 0.4244384832815347),\n",
              " (464, 0.42410823358397853),\n",
              " (61, 0.4238013184738606),\n",
              " (270, 0.4226289155110652),\n",
              " (64, 0.42125156554341736),\n",
              " (450, 0.42101538805586947),\n",
              " (241, 0.420042786011921),\n",
              " (420, 0.41853294874230873),\n",
              " (236, 0.41801662664156647),\n",
              " (434, 0.41800268920861305),\n",
              " (263, 0.41787003310348914),\n",
              " (277, 0.4174591073612374),\n",
              " (152, 0.41651894045234006),\n",
              " (234, 0.41642694914196793),\n",
              " (66, 0.4159922971627808),\n",
              " (376, 0.4156253627663539),\n",
              " (288, 0.4149966372630422),\n",
              " (71, 0.41441518749514167),\n",
              " (350, 0.41401186322226324),\n",
              " (92, 0.4136034028358865),\n",
              " (240, 0.41281156330011615),\n",
              " (139, 0.4122645645084762),\n",
              " (56, 0.41212103556097945),\n",
              " (42, 0.4114482858896499),\n",
              " (85, 0.4110689635183054),\n",
              " (387, 0.4104929591378262),\n",
              " (467, 0.4104197349865721),\n",
              " (25, 0.41038630232062756),\n",
              " (256, 0.4085339411495797),\n",
              " (375, 0.4070878504232301),\n",
              " (38, 0.40615938554942843),\n",
              " (187, 0.4037884411369793),\n",
              " (482, 0.4016768379979985),\n",
              " (31, 0.4013330849252611),\n",
              " (395, 0.4000098026687672),\n",
              " (427, 0.3991491301838437),\n",
              " (142, 0.3986421519221447),\n",
              " (407, 0.3978879733782458),\n",
              " (378, 0.3978829456682108),\n",
              " (150, 0.3974204007971744),\n",
              " (429, 0.3973190330081752),\n",
              " (68, 0.3966788715878738),\n",
              " (137, 0.3964511751301496),\n",
              " (475, 0.39638220269156826),\n",
              " (262, 0.3962374097564962),\n",
              " (386, 0.3960114697631022),\n",
              " (175, 0.395723219440008),\n",
              " (460, 0.39554378595817213),\n",
              " (335, 0.3950820251982429),\n",
              " (110, 0.3940785965734529),\n",
              " (401, 0.39373081122091974),\n",
              " (348, 0.3936665699560378),\n",
              " (358, 0.3932566590123976),\n",
              " (80, 0.39204379104082293),\n",
              " (436, 0.3905859407528121),\n",
              " (280, 0.3900547081926261),\n",
              " (97, 0.3893406046554097),\n",
              " (30, 0.38873123989148217),\n",
              " (481, 0.38873070147763233),\n",
              " (239, 0.3881732682682299),\n",
              " (492, 0.38794682534350333),\n",
              " (238, 0.3872072415690783),\n",
              " (78, 0.3871301954037617),\n",
              " (51, 0.38641479012551055),\n",
              " (122, 0.3861557507543784),\n",
              " (251, 0.38607613037837163),\n",
              " (449, 0.3848356342809864),\n",
              " (389, 0.3844420995905146),\n",
              " (84, 0.3837906388738938),\n",
              " (409, 0.3834219254747158),\n",
              " (404, 0.3829485656066835),\n",
              " (337, 0.38213515803165954),\n",
              " (472, 0.3821331719231994),\n",
              " (454, 0.38213218560002),\n",
              " (441, 0.38191390431146116),\n",
              " (89, 0.3813748985207863),\n",
              " (73, 0.38079059803578463),\n",
              " (445, 0.3807209618602781),\n",
              " (430, 0.3797187108760413),\n",
              " (43, 0.37953645360041854),\n",
              " (249, 0.37931865415002547),\n",
              " (400, 0.37898197591748084),\n",
              " (414, 0.37870859446109123),\n",
              " (206, 0.37792043536271624),\n",
              " (390, 0.3773067039529486),\n",
              " (355, 0.37705996629335503),\n",
              " (196, 0.37695566917955053),\n",
              " (154, 0.3764345306375331),\n",
              " (426, 0.3759472909955909),\n",
              " (114, 0.3751702618267325),\n",
              " (169, 0.3751664650432672),\n",
              " (425, 0.37512476660825617),\n",
              " (267, 0.37492308146378833),\n",
              " (412, 0.37485963974387954),\n",
              " (32, 0.3746904638102937),\n",
              " (361, 0.37387332468438295),\n",
              " (72, 0.3713725833618433),\n",
              " (130, 0.3706405219806072),\n",
              " (484, 0.36973296456405963),\n",
              " (224, 0.36959312520376836),\n",
              " (261, 0.36948079809484125),\n",
              " (195, 0.36900638180008716),\n",
              " (146, 0.3687582346068346),\n",
              " (200, 0.368575264416874),\n",
              " (359, 0.3684288988054029),\n",
              " (35, 0.36822995989257046),\n",
              " (448, 0.3674791609855714),\n",
              " (336, 0.3669641682170815),\n",
              " (40, 0.36675754568916935),\n",
              " (246, 0.36593197263889965),\n",
              " (191, 0.365411642936153),\n",
              " (15, 0.3653368035498534),\n",
              " (29, 0.36468301464563274),\n",
              " (331, 0.3635688837248649),\n",
              " (462, 0.362169004517117),\n",
              " (41, 0.36192185454099857),\n",
              " (357, 0.3618408136080668),\n",
              " (193, 0.3612214969718676),\n",
              " (469, 0.3609159725046436),\n",
              " (211, 0.35919017204166886),\n",
              " (76, 0.35887796725405735),\n",
              " (446, 0.358762001592533),\n",
              " (451, 0.3582985053940231),\n",
              " (310, 0.3570329661335701),\n",
              " (410, 0.3556100497716804),\n",
              " (203, 0.355596743535283),\n",
              " (190, 0.3540282105496798),\n",
              " (332, 0.3539584128572648),\n",
              " (489, 0.35375981243187776),\n",
              " (352, 0.35133539090408816),\n",
              " (221, 0.35108670137265774),\n",
              " (162, 0.35076107946238316),\n",
              " (290, 0.3502693607215173),\n",
              " (214, 0.3496975374852151),\n",
              " (266, 0.34872049023689056),\n",
              " (144, 0.34800671442370146),\n",
              " (77, 0.34774525539480206),\n",
              " (354, 0.34637298888204393),\n",
              " (398, 0.3454885850179443),\n",
              " (301, 0.3450387712872664),\n",
              " (324, 0.3448641771264261),\n",
              " (377, 0.34477206401442917),\n",
              " (397, 0.3438686445105487),\n",
              " (323, 0.34371691511045444),\n",
              " (207, 0.3423666956652155),\n",
              " (198, 0.3423540830649969),\n",
              " (134, 0.34225940417354717),\n",
              " (483, 0.34103846174137326),\n",
              " (179, 0.3404208086912946),\n",
              " (243, 0.3402447609330335),\n",
              " (67, 0.33893644359362474),\n",
              " (189, 0.3389148964626763),\n",
              " (396, 0.338259084547533),\n",
              " (230, 0.33809494525540995),\n",
              " (231, 0.3375765877391001),\n",
              " (248, 0.33752904980658127),\n",
              " (173, 0.337138685141252),\n",
              " (192, 0.3361575967701833),\n",
              " (225, 0.33603364091576166),\n",
              " (282, 0.3359089780970482),\n",
              " (178, 0.33565071257546547),\n",
              " (46, 0.3356172433616258),\n",
              " (180, 0.3353524550972521),\n",
              " (156, 0.33517924388991704),\n",
              " (235, 0.3350427270685517),\n",
              " (52, 0.3347809406417763),\n",
              " (466, 0.33443408485369464),\n",
              " (258, 0.33430393081907145),\n",
              " (271, 0.33357636079504027),\n",
              " (391, 0.3332104913179217),\n",
              " (133, 0.33313566932490957),\n",
              " (474, 0.33269379493997314),\n",
              " (421, 0.33147440891954105),\n",
              " (443, 0.331191540979357),\n",
              " (188, 0.33065282076664765),\n",
              " (341, 0.33056640987876335),\n",
              " (440, 0.3299022793105715),\n",
              " (104, 0.3296759846432421),\n",
              " (98, 0.3296467087304649),\n",
              " (343, 0.32832791399033556),\n",
              " (250, 0.3278061957156272),\n",
              " (394, 0.32677884940738205),\n",
              " (216, 0.32614936316581744),\n",
              " (423, 0.3253144919517614),\n",
              " (259, 0.32392702669404766),\n",
              " (210, 0.3235157282140048),\n",
              " (292, 0.3217225827939136),\n",
              " (329, 0.32163982970581445),\n",
              " (232, 0.32157382620065394),\n",
              " (272, 0.32070770881833044),\n",
              " (106, 0.319377646749219),\n",
              " (157, 0.31884304718530354),\n",
              " (53, 0.31863696990245827),\n",
              " (281, 0.3182410275485445),\n",
              " (107, 0.3178077563019108),\n",
              " (223, 0.3177071934788747),\n",
              " (217, 0.31725283531221304),\n",
              " (415, 0.3169181180381811),\n",
              " (136, 0.31642751239813266),\n",
              " (100, 0.31627273160932207),\n",
              " (303, 0.31382575016136033),\n",
              " (326, 0.3136964055932753),\n",
              " (364, 0.3135081296698488),\n",
              " (101, 0.31288935639248),\n",
              " (105, 0.31251988023697924),\n",
              " (494, 0.31214749640919964),\n",
              " (99, 0.3115426199149216),\n",
              " (470, 0.3110099009911666),\n",
              " (273, 0.3094308510750846),\n",
              " (366, 0.3082500481640135),\n",
              " (286, 0.3078197000151194),\n",
              " (453, 0.3075454392444448),\n",
              " (279, 0.3074782964643072),\n",
              " (432, 0.30542126748712495),\n",
              " (117, 0.30452227126187614),\n",
              " (455, 0.30448337605006726),\n",
              " (369, 0.30446934465840236),\n",
              " (383, 0.30371381256245567),\n",
              " (284, 0.30329525519371886),\n",
              " (181, 0.30320943774320963),\n",
              " (155, 0.30279178254440015),\n",
              " (379, 0.3023279614555012),\n",
              " (291, 0.3018899447720061),\n",
              " (128, 0.3017648472330793),\n",
              " (363, 0.29988506486090255),\n",
              " (260, 0.2986868913547737),\n",
              " (183, 0.2980093643356622),\n",
              " (127, 0.29487541649499377),\n",
              " (153, 0.29171381555255615),\n",
              " (124, 0.29117094329463605),\n",
              " (275, 0.2905599517851201),\n",
              " (305, 0.29026377712182794),\n",
              " (165, 0.2882216298771721),\n",
              " (382, 0.28569833690884533),\n",
              " (452, 0.28509354396690567),\n",
              " (37, 0.2844725866464172),\n",
              " (182, 0.28439443099369616),\n",
              " (163, 0.28366285002525027),\n",
              " (278, 0.28176986997886216),\n",
              " (487, 0.2817399621260651),\n",
              " (185, 0.2808673066337716),\n",
              " (33, 0.2802026543667275),\n",
              " (123, 0.2785758251936888),\n",
              " (480, 0.2768470835077993),\n",
              " (208, 0.27673732940912615),\n",
              " (342, 0.27589324567739737),\n",
              " (457, 0.275833100992801),\n",
              " (252, 0.27556439631664364),\n",
              " (319, 0.2754762325997928),\n",
              " (159, 0.27524379131442595),\n",
              " (143, 0.2751510227988073),\n",
              " (346, 0.2734862097868509),\n",
              " (219, 0.27344556559166394),\n",
              " (135, 0.2723708594918619),\n",
              " (212, 0.2716504322485702),\n",
              " (94, 0.27070128747492755),\n",
              " (109, 0.2701050073105693),\n",
              " (79, 0.269940753236778),\n",
              " (95, 0.2688929518021555),\n",
              " (367, 0.2685696739263646),\n",
              " (132, 0.2684064438867561),\n",
              " (201, 0.26781177023841485),\n",
              " (161, 0.26733406112663405),\n",
              " (34, 0.26709611315984116),\n",
              " (229, 0.26666578512579553),\n",
              " (408, 0.26500685673041124),\n",
              " (317, 0.26489666984388477),\n",
              " (360, 0.26378462948701276),\n",
              " (322, 0.2629545226330627),\n",
              " (166, 0.2618530981405545),\n",
              " (253, 0.2610072988475342),\n",
              " (321, 0.260923447993597),\n",
              " (438, 0.25824656162724524),\n",
              " (333, 0.2574353760696064),\n",
              " (126, 0.2574269760164541),\n",
              " (202, 0.256388136214127),\n",
              " (176, 0.25563977852084063),\n",
              " (347, 0.2543261611674647),\n",
              " (330, 0.2537319357651951),\n",
              " (320, 0.2510527510798654),\n",
              " (197, 0.24947727467754358),\n",
              " (129, 0.2493466801443362),\n",
              " (138, 0.2488755135852845),\n",
              " (90, 0.24818344604339312),\n",
              " (121, 0.24702192846266163),\n",
              " (113, 0.2469929737627168),\n",
              " (406, 0.24657461006542108),\n",
              " (334, 0.24599320959419005),\n",
              " (245, 0.2429965314122971),\n",
              " (199, 0.2414114595256945),\n",
              " (294, 0.23920919272770885),\n",
              " (120, 0.23888865312817437),\n",
              " (304, 0.23869985742122132),\n",
              " (118, 0.23797529659266084),\n",
              " (349, 0.23739518213308777),\n",
              " (88, 0.23548249945895658),\n",
              " (298, 0.2346652656022664),\n",
              " (167, 0.23438185485325408),\n",
              " (327, 0.23342664310281622),\n",
              " (81, 0.23300773052924578),\n",
              " (204, 0.23199616370510096),\n",
              " (478, 0.2312133401783815),\n",
              " (384, 0.23063425358255404),\n",
              " (307, 0.2282737331437213),\n",
              " (340, 0.22561010148731145),\n",
              " (293, 0.2247187137795087),\n",
              " (147, 0.22443743058534282),\n",
              " (328, 0.21964179316118612),\n",
              " (174, 0.21249126527684253),\n",
              " (285, 0.212004926736943),\n",
              " (316, 0.20898835106297964),\n",
              " (312, 0.20764620082872978),\n",
              " (289, 0.20750903546806718),\n",
              " (158, 0.20745433696328652),\n",
              " (287, 0.2066910592907621),\n",
              " (93, 0.20625099983040154),\n",
              " (315, 0.2017520936243265),\n",
              " (184, 0.20094661509497777),\n",
              " (365, 0.19785953339897758),\n",
              " (96, 0.19598502805217227),\n",
              " (265, 0.1906139837370441),\n",
              " (16, 0.19027331695485505),\n",
              " (91, 0.18489183739839246),\n",
              " (131, 0.18146160583918014),\n",
              " (111, 0.18134859232283992),\n",
              " (102, 0.1792139989945644),\n",
              " (283, 0.17209864270228853),\n",
              " (338, 0.17188732322123515),\n",
              " (112, 0.171560973389551),\n",
              " (300, 0.1685154785299023),\n",
              " (274, 0.16518615975769765),\n",
              " (362, 0.1645992417500643),\n",
              " (119, 0.16327444679091893),\n",
              " (125, 0.1596057467942529),\n",
              " (344, 0.1525684616726741),\n",
              " (140, 0.1519694448572076),\n",
              " (103, 0.1483686544921868),\n",
              " (177, 0.1481387187987391),\n",
              " (213, 0.1472625960641515),\n",
              " (370, 0.14426674754084604),\n",
              " (296, 0.13898576177078653),\n",
              " (318, 0.13763184330425346),\n",
              " (373, 0.13336163967484746),\n",
              " (264, 0.12986727677719154),\n",
              " (306, 0.1277787406410616),\n",
              " (308, 0.1269993323186126),\n",
              " (17, 0.12674806218810267),\n",
              " (372, 0.11567846223076562),\n",
              " (371, 0.08020121146535199),\n",
              " (368, 0.07009767569675003),\n",
              " (299, 0.066387850818694),\n",
              " (295, 0.06572536474261569),\n",
              " (302, 0.06316023774753257),\n",
              " (313, 0.0479128493033554),\n",
              " (297, 0.03141501577355318),\n",
              " (325, 0.030656996972094185),\n",
              " (314, 0.027405451469632414),\n",
              " (309, 0.024366498642500112),\n",
              " (311, 0.018582310768142558)]"
            ]
          },
          "metadata": {},
          "execution_count": 20
        }
      ]
    },
    {
      "cell_type": "code",
      "source": [
        "print(labels[0], pre_docs[0])\n",
        "print(labels[8], clusters_15[8], clusters_5[8], pre_docs[8])"
      ],
      "metadata": {
        "colab": {
          "base_uri": "https://localhost:8080/"
        },
        "id": "Xu99-tD9swCz",
        "outputId": "f1ab42aa-3e9e-4496-9e31-312b54728d0e"
      },
      "execution_count": 21,
      "outputs": [
        {
          "output_type": "stream",
          "name": "stdout",
          "text": [
            "['news'] fulton county grand jury say friday investigation atlanta's recent primary election produce evidence irregularity take place jury say term-end presentment city executive committee over-all charge election deserve praise thanks city atlanta manner election conduct september-october term jury charge fulton superior court judge durwood pye investigate report possible irregularity hard-fought primary mayor-nominate ivan allen jr. relative handful report receive jury say consider widespread interest election number voter size city jury say find many georgia's registration election laws outmode inadequate often ambiguous recommend fulton legislator act laws study revise end modernize improve grand jury comment number topic among atlanta fulton county purchasing department say well operate follow generally accept practice inure best interest government merger propose however jury say belief two office combine achieve greater efficiency reduce cost administration city purchasing department jury say lack experience clerical personnel result city personnel policy urge city take steps remedy problem implementation georgia's automobile title law also recommend outgo jury urge next legislature provide enable funds re-set effective date orderly implementation law may effect grand jury take swipe state welfare department's handling federal funds grant child welfare services foster home one major item fulton county general assistance program jury say state welfare department see fit distribute funds welfare department county state exception fulton county receive none money juror say realize proportionate distribution funds might disable program le populous county nevertheless feel future fulton county receive portion available funds juror say failure continue place disproportionate burden fulton taxpayer jury also comment fulton ordinary's court fire practice appointment appraiser guardian administrator awarding fee compensation ward protect jury say found court incorporate operate procedure recommendation two previous grand jury atlanta bar association interim citizen committee action serve protect fact effect court's ward undue costs appoint elect servant unmeritorious criticism jury say regard atlanta's new multi-million-dollar airport jury recommend new management take charge jan. airport operate manner eliminate political influence jury elaborate add periodic surveillance pricing practice concessionaire purpose keeping price reasonable ask jail deputy matter jury recommend four additional deputy employ fulton county jail doctor medical intern extern employ night weekend duty jail fulton legislator work city official pass enable legislation permit establishment fair equitable pension plan city employ jury praise administration operation atlanta police department fulton tax commissioner's office bellwood alpharetta prison farm grady hospital fulton health department mayor william b. hartsfield file suit divorce wife pearl williams hartsfield fulton superior court friday petition charge mental cruelty couple married aug. son william berry jr. daughter mrs. j. m. cheshire griffin attorney mayor say amicable property settlement agree upon petition list mayor's occupation attorney age list wife's age place birth opelika ala. petition say couple live together man wife year hartsfield home e. pelham rd. aj henry l. bowden list petition mayor's attorney hartsfield mayor atlanta exception one brief interlude since political career go back election city council mayor's present term office expire jan. succeed ivan allen jr. become candidate sept. primary mayor hartsfield announce would run reelection georgia republican getting strong encouragement enter candidate governor's race top official say wednesday robert snodgrass state gop chairman say meeting hold tuesday night blue ridge bring enthusiastic response audience state party chairman james w. dorsey add enthusiasm picking state rally hold sept. savannah newly elect texas sen. john tower feature speaker blue ridge meeting audience warn entering candidate governor would force take petition voting precinct obtain signature register voter despite warning unanimous vote enter candidate accord republican attend crowd ask whether want wait one term make race vote dissent large hurdle republican would face state law say making first race one two alternative course must take five per cent voter county must sign petition request republican allow place names candidate general election ballot republican must hold primary county unit system system party oppose platform sam caldwell state highway department public relations director resign tuesday work lt. gov. garland byrd's campaign caldwell's resignation expect time succeed rob ledford gainesville assistant three years gubernatorial campaign start caldwell expect become campaign coordinator byrd georgia legislature wind session monday head home highway bond money approve follow shortly adjournment monday afternoon senate expect approve study number legislator allot rural urban area determine adjustment make gov. vandiver expect make traditional visit chambers work toward adjournment vandiver likely mention $ million highway bond issue approve earlier session first priority item construction bond meanwhile learn state highway department near ready issue first $ million worth highway reconstruction bond bond issue go state court friendly test suit test validity act sales begin contract let repair work georgia's heavily travel highway highway department source say also plan issue $ million $ million worth rural roads authority bond rural road construction work revolve fund department apparently intend make rural roads authority revolve fund new bond would issue every time portion old one pay tax authorities vandiver open race governor battle legislature issuance $ million worth additional rural roads bond propose gov. marvin griffin highway department source tell constitution however vandiver consult yet plan issue new rural roads bond schley county rep. b. d. pelham offer resolution monday house rescind body's action friday voting $ per day increase expense allowance pelham say sunday night research whether quickie vote increase repeal outright whether notice would first given reconsideration action would seek emphasizing technical details fully work pelham say resolution would seek set aside privilege resolution house vote similar resolution pass senate vote sunday night word resolution offer rescind action pelham point georgia voter last november reject constitutional amendment allow legislator vote pay raise future legislature sessions veteran jackson county legislator ask georgia house monday back federal aid education something consistently oppose past rep. mac barber commerce asking house privilege resolution endorse increase federal support public education provide funds receive expend state funds barber th year legislator say member congressional delegation washington would like see resolution pass add none georgia's congressman specifically ask offer resolution resolution barber toss house hopper friday formally read monday say event congress provide increase federal funds state board education direct give priority teacher pay raise colquitt long hot controversy miller county new school superintendent elect policeman put cool election ever saw county new school superintendent harry davis veteran agriculture teacher defeated felix bush school principal chairman miller county democratic executive committee davis receive vote saturday's election bush get ordinary carey williams arm pistol stand polls insure order cool calm election ever saw colquitt policeman tom williams say polls like church smell drop liquor bit trouble campaign leading election quiet however mark controversy anonymous midnight phone call veil threat violence former county school superintendent george p. callan shot death march four days resign post dispute county school board election campaign candidate davis bush reportedly receive anonymous telephone call ordinary williams say subject anonymous call soon schedule election many local citizen fear would irregularity polls williams get permit carry gun promise orderly election sheriff felix tabb say ordinary apparently make good promise everything go real smooth sheriff say bit trouble\n",
            "['news'] 8 1 city controller alexander hemphill charge tuesday bid frankford elevated repair project rig advantage private contracting company inside track city estimate city's loss $, job range high $, shortcut unnoticed hemphill say hughes steel erection co. contract work impossibly low cost bid far le legitimate bid compete contractor hughes concern take shortcut project get pay anyway hemphill say controller's charge rigging latest development investigation also bring disclosure tuesday city sue full amount $, performance bond covering contract philadelphia transportation co. investigating part organization play review project signature harold v. varani former director architecture engineering department public property appear payment voucher certify work project varani fire charge accept gift contractor manage director donald c. wagner agree cooperate fully hemphill period sharp disagreement matter announcement city would sue recovery performance bond make city solicitor david berger press conference following meeting morning wagner official city ptc well representative engineering firm pull el project completion concern bankrupt hughes company consolidate industry inc. n. st. file reorganization federal bankruptcy law monday hughes concern formally declare bankrupt director indicate could draw plan reorganization business relations company city investigation hemphill district attorney james c. crumlish jr. intervene case suit file later day common plea court hughes company two bonding firm traveler indemnity co. continental casualty co. berger's direction city also intervene hughes bankruptcy case u. s. district court move preliminary filing claim taking position contract clearly violate berger say contract violation mostly involve failure perform rehabilitation work expansion joint along el track contract call overhaul joint city pay work repair hemphill charge wide range bid hemphill say hughes concern contract repair cost $ joint bid a. belanger son cambridge mass. list officer hughes $ per joint hemphill add bid contractor range $ $ per joint berger's decision sue full amount performance bond question wagner morning press conference wagner say city pay $, hughes company know full amount get full report wagner say claim maximum amount bond berger say wagner reply can't see headline city hook $, know enough sue berger insist know enough sue full amount douglas m. pratt president ptc attend meeting say transit company review work el want find know pratt say certain people must know ptc investigating whole matter pratt say samuel d. goodis represent philadelphia hotel association object tuesday propose boost city license fee saying occupancy rates major hotel range percent last year goodis voice objection city council's finance committee hotel rooms increase license fee would mean expense $ year goodis say testify hearing testimony come hearing bill raising fee wide variety license permit city services new fee expect raise additional $, remainder $,, year ordinance would increase fee room house hotel multi-family dwelling $ room cost license $ annual renewal fee $ goodis say single rooms account percent accomodations hotel revenue estimate city expect higher room house hotel apartment house fee bring additional $, year increase also oppose leonard kaplan spokesman home builder association philadelphia behalf association member operate apartment house proposal raise dog license fee drew objection councilwoman virginia knauer formerly raise pedigreed dog ordinance would increase fee $ male $ female flat $ dog commissioner reply mrs. knauer say think dog owner penalize city's services animal care reply deputy police commissioner howard r. leary say city spend $, annually license regulate dog collect $, fee report city's contribution animal care include $, women's s.p.c.a. $, pay six policeman assign dog catcher $, investigate dog bite back higher fee city finance director richard j. mcconnell indorse higher fee say study year city adequately compensate services cover fee say new fee schedule also support commissioner license inspection barnet lieberman health commissioner eugene a. gillis petition asking jail term norristown attorney julian w. barnard present montgomery county court friday disclose tuesday horace a. davenport counsel widow man kill last nov. barnard's hit-run car petition present open court president judge william f. dannehower davenport say barnard plead defense manslaughter hit-run charge fine $ judge warren k. hess place two years' probation provide drive time catch driving day sentence pronounce given warning victim accident robert lee stansbery widow start circulation petition barnard reprimand violate probation city planning commission tuesday approve agreement two redevelopers redevelopment authority purchase land $,, eastwick redevelopment area project commission also approve novel plan would eliminate traffic hazard pedestrian project one agreement call new eastwick corp. purchase acre tract $,, tract bound island ave. dick ave. st st. eastwick ave. four parks plan designate stage residential redevelopment authority's master plan feature row house garden apartment four small parks school church shopping center several small cluster store corporation form reynolds metal co. samuel a. henry a. berger firm philadelphia builder work project second agreement permit authority sell -acre tract west stage residential philadelphia builder eastwick corp. firm compose philadelphia area builder interest developing part project would bar vehicle plan eliminate traffic hazard pedestrian develop dr. constantinos a. doxiadis former minister reconstruction greece consult planner new eastwick corp. plan call divide project sector would bar vehicular traffic provide series landscape walkway central esplanade would eventually run center entire two-and-a-half-mile length project esplanade eliminate grovers ave. original plan run center development esplanade would feature pedestrian bridges roads project kansas city mo. feb. upi president kansas city local international association fire fighter severly injure today bomb tore car apart left home work battalion chief stanton m. gladden central figure representation dispute fire fighter association teamster union suffer multiple fracture ankle baptist memorial hospital ignition set blast battalion chief say get model automobile move driveway home could take car work i'd turn ignition big flash lying driveway say gladden's wife two son john jim inside house younger boy say blast knock bed wall hood flies house explosion sent hood car flying roof house left front wheel land foot away police laboratory technician say explosive device contain either tnt nitroglycerine apparently place left front wheel first believe bomb rig car's starter gladden target threaten telephone call recent month reportedly receive one last night fire department tear month dissension involve top personnel fight fire fighter association teamster union led fight teamster gladden outspoken critic present city administration led union's battle teamster begin organize city fireman fire fighter association offer $, reward information leading arrest person person responsible bombing $ reward offer association's local kansas city kas. association say would post hour guard gladden's home james mining eugene shiflett mining secretary-treasurer local shiflett member executive committee active association ankara turkey oct. ap turkish political leaders bow today military pressure agree form emergency national front government gen. cemal gursel president agreement leaders four party contest indecisive election oct. reach almost hours political bargaining threat army coup d'etat by-passing military junta rule turkey since overthrow premier adnan menderes month ago army general staff led gen. cedvet sunay set deadline party join national coalition government army leaders threaten form new military government party fail sign eight point protocol agree gen. gursel president gen. gursel head military junta last month military also demand pledge would change laws pass junta leaders menderes regime prison would pardon party leaders come final meeting apparently satisfy state complete agreement reach solution crisis create election left party enough strength form government\n"
          ]
        }
      ]
    }
  ]
}